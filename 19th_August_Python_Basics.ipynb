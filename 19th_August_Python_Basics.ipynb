{
 "cells": [
  {
   "cell_type": "code",
   "execution_count": 142,
   "id": "a51847ea-2282-4236-a143-7dc5a2fae84b",
   "metadata": {},
   "outputs": [],
   "source": [
    "#Python Basics Variable"
   ]
  },
  {
   "cell_type": "code",
   "execution_count": 143,
   "id": "924e41f3-ad49-4f62-a688-1e274e6131c8",
   "metadata": {},
   "outputs": [],
   "source": [
    "#\"Q1\""
   ]
  },
  {
   "cell_type": "code",
   "execution_count": 144,
   "id": "c1d8616a-d40a-4d25-8bbb-b8b4f380522b",
   "metadata": {},
   "outputs": [],
   "source": [
    "r=7"
   ]
  },
  {
   "cell_type": "code",
   "execution_count": 145,
   "id": "ddfd5e16-bfe2-4a3c-97df-4632e04fe5f9",
   "metadata": {},
   "outputs": [],
   "source": [
    "s=10"
   ]
  },
  {
   "cell_type": "code",
   "execution_count": 146,
   "id": "89664657-a008-42f2-8907-5de4f53d0791",
   "metadata": {},
   "outputs": [],
   "source": [
    "r,s=s,r"
   ]
  },
  {
   "cell_type": "code",
   "execution_count": 147,
   "id": "ad68dd1c-42ec-4b63-917a-e9e357816f68",
   "metadata": {},
   "outputs": [
    {
     "data": {
      "text/plain": [
       "10"
      ]
     },
     "execution_count": 147,
     "metadata": {},
     "output_type": "execute_result"
    }
   ],
   "source": [
    "r"
   ]
  },
  {
   "cell_type": "code",
   "execution_count": 148,
   "id": "98a947b3-d997-4d8f-a3d5-b71aca298782",
   "metadata": {},
   "outputs": [
    {
     "data": {
      "text/plain": [
       "7"
      ]
     },
     "execution_count": 148,
     "metadata": {},
     "output_type": "execute_result"
    }
   ],
   "source": [
    "s"
   ]
  },
  {
   "cell_type": "code",
   "execution_count": 137,
   "id": "96d5b040-fe13-4dee-a2cb-9bc63d2b933f",
   "metadata": {},
   "outputs": [
    {
     "name": "stdout",
     "output_type": "stream",
     "text": [
      "10 7\n"
     ]
    }
   ],
   "source": [
    "print(r,s)"
   ]
  },
  {
   "cell_type": "code",
   "execution_count": null,
   "id": "bc12b530-3c07-4249-b00a-a3307e536d79",
   "metadata": {},
   "outputs": [],
   "source": []
  },
  {
   "cell_type": "code",
   "execution_count": 11,
   "id": "5a0ea46d-0ca1-4bc2-b6ec-84469807e1c5",
   "metadata": {},
   "outputs": [],
   "source": [
    "#\"Q2\""
   ]
  },
  {
   "cell_type": "code",
   "execution_count": 151,
   "id": "86bce3e1-3b11-4cf3-887c-24f3fefdd3f5",
   "metadata": {},
   "outputs": [
    {
     "name": "stdin",
     "output_type": "stream",
     "text": [
      " 500\n"
     ]
    }
   ],
   "source": [
    "length= int(input())"
   ]
  },
  {
   "cell_type": "code",
   "execution_count": 152,
   "id": "3a3e64b8-ba7f-4b0e-b82a-631d13720803",
   "metadata": {},
   "outputs": [
    {
     "name": "stdin",
     "output_type": "stream",
     "text": [
      " 200\n"
     ]
    }
   ],
   "source": [
    "width= int(input())"
   ]
  },
  {
   "cell_type": "code",
   "execution_count": 153,
   "id": "c602748e-c609-416b-a1d0-181385e77e66",
   "metadata": {},
   "outputs": [],
   "source": [
    "area= length*width"
   ]
  },
  {
   "cell_type": "code",
   "execution_count": 154,
   "id": "9fbcddea-a627-48a9-8df3-073ebf37b5f4",
   "metadata": {},
   "outputs": [
    {
     "name": "stdout",
     "output_type": "stream",
     "text": [
      "100000\n"
     ]
    }
   ],
   "source": [
    "print(area)"
   ]
  },
  {
   "cell_type": "code",
   "execution_count": null,
   "id": "391a482f-5d06-4701-82db-a361b1fe3665",
   "metadata": {},
   "outputs": [],
   "source": []
  },
  {
   "cell_type": "code",
   "execution_count": 155,
   "id": "54513c52-ff61-4072-bc1c-6f9b88b190d6",
   "metadata": {},
   "outputs": [],
   "source": [
    "#\"Q3\""
   ]
  },
  {
   "cell_type": "code",
   "execution_count": 156,
   "id": "e8537396-4bcc-48a1-9d23-99752f345da5",
   "metadata": {},
   "outputs": [
    {
     "name": "stdin",
     "output_type": "stream",
     "text": [
      " 37\n"
     ]
    }
   ],
   "source": [
    "temp_in_celsius=float(input())"
   ]
  },
  {
   "cell_type": "code",
   "execution_count": 157,
   "id": "ed138bd2-a243-4f1f-886e-ffadf9b2230a",
   "metadata": {},
   "outputs": [],
   "source": [
    "temp_in_fahrenheit=(temp_in_celsius*9/5)+32"
   ]
  },
  {
   "cell_type": "code",
   "execution_count": 159,
   "id": "ddfb0fbf-e2e3-4e20-aa7f-ea8ebb37569e",
   "metadata": {},
   "outputs": [
    {
     "name": "stdout",
     "output_type": "stream",
     "text": [
      "98.6\n"
     ]
    }
   ],
   "source": [
    "print(temp_in_fahrenheit)"
   ]
  },
  {
   "cell_type": "code",
   "execution_count": null,
   "id": "85b8fc22-df64-4afe-adb6-a67f96e501fd",
   "metadata": {},
   "outputs": [],
   "source": []
  },
  {
   "cell_type": "code",
   "execution_count": 26,
   "id": "d7cba3d2-0030-4e5f-b6b3-13899d460afd",
   "metadata": {},
   "outputs": [],
   "source": [
    "#String Based Questions"
   ]
  },
  {
   "cell_type": "code",
   "execution_count": 15,
   "id": "fe0b4411-472d-4e57-8082-c5cbc564ce7f",
   "metadata": {},
   "outputs": [
    {
     "data": {
      "text/plain": [
       "'Q1'"
      ]
     },
     "execution_count": 15,
     "metadata": {},
     "output_type": "execute_result"
    }
   ],
   "source": [
    "\"Q1\""
   ]
  },
  {
   "cell_type": "code",
   "execution_count": 133,
   "id": "9c8c1fc9-5902-4709-bbcc-ccbf76458fb8",
   "metadata": {},
   "outputs": [
    {
     "name": "stdin",
     "output_type": "stream",
     "text": [
      " I try my best\n"
     ]
    }
   ],
   "source": [
    "d=input()"
   ]
  },
  {
   "cell_type": "code",
   "execution_count": 134,
   "id": "0efa2e12-36a0-4cd2-b591-34c1ae46ef70",
   "metadata": {},
   "outputs": [
    {
     "data": {
      "text/plain": [
       "13"
      ]
     },
     "execution_count": 134,
     "metadata": {},
     "output_type": "execute_result"
    }
   ],
   "source": [
    "len(d)"
   ]
  },
  {
   "cell_type": "code",
   "execution_count": 135,
   "id": "52a019ec-b8ee-4d05-99a4-3ca9a675d691",
   "metadata": {},
   "outputs": [
    {
     "name": "stdout",
     "output_type": "stream",
     "text": [
      "13\n"
     ]
    }
   ],
   "source": [
    "print(len(d))"
   ]
  },
  {
   "cell_type": "code",
   "execution_count": null,
   "id": "7b4d21b4-f90d-491a-bf4a-f681e5d9d493",
   "metadata": {},
   "outputs": [],
   "source": []
  },
  {
   "cell_type": "code",
   "execution_count": null,
   "id": "0664622d-2c40-4b05-a3b2-7d6278a55980",
   "metadata": {},
   "outputs": [],
   "source": [
    "#\"Q2\""
   ]
  },
  {
   "cell_type": "code",
   "execution_count": 141,
   "id": "a6e95de9-cb97-4b9a-bd1f-226e09b7d05d",
   "metadata": {},
   "outputs": [],
   "source": [
    "#unable to solve"
   ]
  },
  {
   "cell_type": "code",
   "execution_count": null,
   "id": "87058922-bff9-443c-afc1-fc3fc8a964e2",
   "metadata": {},
   "outputs": [],
   "source": []
  },
  {
   "cell_type": "code",
   "execution_count": 132,
   "id": "e950d9ef-2a0f-4812-bc37-720e18c7035b",
   "metadata": {},
   "outputs": [],
   "source": [
    "#\"Q3\""
   ]
  },
  {
   "cell_type": "code",
   "execution_count": 24,
   "id": "408bdc08-f1ec-4fe6-b213-0c2b29778d5c",
   "metadata": {},
   "outputs": [
    {
     "name": "stdin",
     "output_type": "stream",
     "text": [
      " It’s time to introspect\n"
     ]
    }
   ],
   "source": [
    "d=input()"
   ]
  },
  {
   "cell_type": "code",
   "execution_count": 31,
   "id": "98fa43d1-cb87-4f29-ac06-475e855663c7",
   "metadata": {},
   "outputs": [],
   "source": [
    "reverse= d[::-1]"
   ]
  },
  {
   "cell_type": "code",
   "execution_count": 32,
   "id": "7583519f-3142-4170-bb8a-02b6995981ee",
   "metadata": {},
   "outputs": [
    {
     "name": "stdout",
     "output_type": "stream",
     "text": [
      "tcepsortni ot emit s’tI\n"
     ]
    }
   ],
   "source": [
    "print(reverse)"
   ]
  },
  {
   "cell_type": "code",
   "execution_count": null,
   "id": "07e238c4-4f43-4d07-9107-5414cacf3baf",
   "metadata": {},
   "outputs": [],
   "source": []
  },
  {
   "cell_type": "code",
   "execution_count": 139,
   "id": "dd6566ad-6eed-4185-9696-8061803ca39a",
   "metadata": {},
   "outputs": [],
   "source": [
    "#\"Q4\""
   ]
  },
  {
   "cell_type": "code",
   "execution_count": 140,
   "id": "87883bac-acc5-461a-bd55-375b9b058712",
   "metadata": {},
   "outputs": [],
   "source": [
    "#unable to solve"
   ]
  },
  {
   "cell_type": "code",
   "execution_count": null,
   "id": "918aa5fb-5851-4838-9af1-408eca51b8bc",
   "metadata": {},
   "outputs": [],
   "source": []
  },
  {
   "cell_type": "code",
   "execution_count": null,
   "id": "c6f26e7c-6121-4467-910f-fecb0d1b100e",
   "metadata": {},
   "outputs": [],
   "source": [
    "#\"Q5\""
   ]
  },
  {
   "cell_type": "code",
   "execution_count": null,
   "id": "ce50691a-5e1b-40c9-94a5-5660e64ae37b",
   "metadata": {},
   "outputs": [
    {
     "name": "stdin",
     "output_type": "stream",
     "text": [
      " the reservation is not a poverty alleviation scheme\n"
     ]
    }
   ],
   "source": [
    "c=input()"
   ]
  },
  {
   "cell_type": "code",
   "execution_count": 129,
   "id": "8c22b456-fd48-467d-8bf7-2238af159d08",
   "metadata": {},
   "outputs": [
    {
     "data": {
      "text/plain": [
       "'thereservationisnotapovertyalleviationscheme'"
      ]
     },
     "execution_count": 129,
     "metadata": {},
     "output_type": "execute_result"
    }
   ],
   "source": [
    "c.replace(\" \",\"\")"
   ]
  },
  {
   "cell_type": "code",
   "execution_count": 131,
   "id": "e7651c46-5d39-4551-b629-9163a4b3dacd",
   "metadata": {},
   "outputs": [
    {
     "name": "stdout",
     "output_type": "stream",
     "text": [
      "thereservationisnotapovertyalleviationscheme\n"
     ]
    }
   ],
   "source": [
    "print(c.replace(\" \",\"\"))"
   ]
  },
  {
   "cell_type": "code",
   "execution_count": null,
   "id": "348ebfa3-4990-4f20-880f-2bef27f8bbd8",
   "metadata": {},
   "outputs": [],
   "source": []
  }
 ],
 "metadata": {
  "kernelspec": {
   "display_name": "Python 3 (ipykernel)",
   "language": "python",
   "name": "python3"
  },
  "language_info": {
   "codemirror_mode": {
    "name": "ipython",
    "version": 3
   },
   "file_extension": ".py",
   "mimetype": "text/x-python",
   "name": "python",
   "nbconvert_exporter": "python",
   "pygments_lexer": "ipython3",
   "version": "3.10.8"
  }
 },
 "nbformat": 4,
 "nbformat_minor": 5
}
